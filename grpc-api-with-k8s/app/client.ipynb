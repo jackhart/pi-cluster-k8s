{
 "cells": [
  {
   "cell_type": "code",
   "execution_count": 5,
   "id": "requested-genesis",
   "metadata": {},
   "outputs": [],
   "source": [
    "import grpc\n",
    "\n",
    "import info_pb2\n",
    "import info_pb2_grpc"
   ]
  },
  {
   "cell_type": "code",
   "execution_count": 8,
   "id": "proved-racing",
   "metadata": {},
   "outputs": [],
   "source": [
    "with grpc.insecure_channel('localhost:5001') as channel:\n",
    "    stub = info_pb2_grpc.InfoServiceStub(channel)\n",
    "    response, call = stub.name_info.with_call(info_pb2.NodeNameRequest())"
   ]
  },
  {
   "cell_type": "code",
   "execution_count": 13,
   "id": "comfortable-business",
   "metadata": {},
   "outputs": [
    {
     "name": "stdout",
     "output_type": "stream",
     "text": [
      "name: POMPOM\n",
      "\n"
     ]
    }
   ],
   "source": [
    "print(response)"
   ]
  },
  {
   "cell_type": "code",
   "execution_count": null,
   "id": "hazardous-billy",
   "metadata": {},
   "outputs": [],
   "source": []
  }
 ],
 "metadata": {
  "kernelspec": {
   "display_name": "Python 3",
   "language": "python",
   "name": "python3"
  },
  "language_info": {
   "codemirror_mode": {
    "name": "ipython",
    "version": 3
   },
   "file_extension": ".py",
   "mimetype": "text/x-python",
   "name": "python",
   "nbconvert_exporter": "python",
   "pygments_lexer": "ipython3",
   "version": "3.8.8"
  }
 },
 "nbformat": 4,
 "nbformat_minor": 5
}
